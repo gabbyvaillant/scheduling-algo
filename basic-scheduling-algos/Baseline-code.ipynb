{
 "cells": [
  {
   "cell_type": "markdown",
   "id": "7d7aea94-07d0-41bc-88f6-fb8316da119a",
   "metadata": {},
   "source": [
    "# Machine learning Work Loads Implemented for scheduling algorithms\n",
    "\n",
    "## Task 1: MNIST Classification\n",
    "## Task 2: \n",
    "## Task 3:"
   ]
  },
  {
   "cell_type": "code",
   "execution_count": 5,
   "id": "cd61f607-b62f-4250-aee1-c830018a4661",
   "metadata": {},
   "outputs": [],
   "source": [
    "def mnist_classification_task():\n",
    "    # Load and preprocess the MNIST dataset\n",
    "    (train_images, train_labels), (test_images, test_labels) = tf.keras.datasets.mnist.load_data()\n",
    "    train_images = train_images.reshape((60000, 28, 28, 1))  # Reshape to 28x28x1\n",
    "    test_images = test_images.reshape((10000, 28, 28, 1))\n",
    "    train_images = train_images.astype('float32') / 255  # Normalize pixel values\n",
    "    test_images = test_images.astype('float32') / 255\n",
    "\n",
    "    #Build a simple CNN model\n",
    "    model = models.Sequential()\n",
    "    model.add(layers.Conv2D(32, (3, 3), activation='relu', input_shape=(28, 28, 1)))\n",
    "    model.add(layers.MaxPooling2D((2, 2)))\n",
    "    model.add(layers.Conv2D(64, (3, 3), activation='relu'))\n",
    "    model.add(layers.MaxPooling2D((2, 2)))\n",
    "    model.add(layers.Conv2D(64, (3, 3), activation='relu'))\n",
    "    model.add(layers.Flatten())\n",
    "    model.add(layers.Dense(64, activation='relu'))\n",
    "    model.add(layers.Dense(10, activation='softmax'))  # 10 output classes for digits 0-9\n",
    "\n",
    "    #Training the model\n",
    "    model.compile(optimizer='adam', loss='sparse_categorical_crossentropy', metrics=['accuracy'])\n",
    "    model.fit(train_images, train_labels, epochs=2, batch_size=64, validation_split=0.1)  #Change number of epochs for faster/slower training\n",
    "\n",
    "    #Evalutation\n",
    "    test_loss, test_acc = model.evaluate(test_images, test_labels)\n",
    "    print(f'Task 1: MNIST Classification - Test accuracy: {test_acc * 100:.2f}%')"
   ]
  },
  {
   "cell_type": "code",
   "execution_count": null,
   "id": "e0e90c7f-6883-4ca8-bc6f-1794b8acaabe",
   "metadata": {},
   "outputs": [],
   "source": [
    "def task2():\n",
    "    print(\"Code for task 2 goes here\")"
   ]
  },
  {
   "cell_type": "code",
   "execution_count": null,
   "id": "c157835d-727f-4628-83b4-4e7a372413b6",
   "metadata": {},
   "outputs": [],
   "source": [
    "def task3():\n",
    "    print(\"Code for task 2 goes here\")"
   ]
  },
  {
   "cell_type": "code",
   "execution_count": null,
   "id": "04a97c6e-c33a-4b8b-965a-dcca8454d1c2",
   "metadata": {},
   "outputs": [],
   "source": [
    "def fcfs_scheduler(task_list):\n",
    "    print(\"Scheduler: Starting tasks in First-Come, First-Served order...\\n\")\n",
    "    for task in task_list:\n",
    "        task()  #However we input the task list, thats the order they will be completed.\n",
    "        print()\n",
    "\n",
    "if __name__ == \"__main__\":\n",
    "    #List of Machine Learning Workloads\n",
    "    tasks = [mnist_classification_task, task2, task3]\n",
    "\n",
    "    #Run the scheduler with the task list\n",
    "    fcfs_scheduler(tasks)"
   ]
  }
 ],
 "metadata": {
  "kernelspec": {
   "display_name": "Python 3 (ipykernel)",
   "language": "python",
   "name": "python3"
  },
  "language_info": {
   "codemirror_mode": {
    "name": "ipython",
    "version": 3
   },
   "file_extension": ".py",
   "mimetype": "text/x-python",
   "name": "python",
   "nbconvert_exporter": "python",
   "pygments_lexer": "ipython3",
   "version": "3.12.7"
  }
 },
 "nbformat": 4,
 "nbformat_minor": 5
}
